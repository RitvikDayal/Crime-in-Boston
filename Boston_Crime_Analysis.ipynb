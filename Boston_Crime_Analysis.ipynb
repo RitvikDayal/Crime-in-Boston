{
 "cells": [
  {
   "cell_type": "markdown",
   "metadata": {},
   "source": [
    "# Boston Crime Analysis\n"
   ]
  },
  {
   "cell_type": "markdown",
   "metadata": {},
   "source": [
    "In this analysis I will be focusing on the analysis to deduce some predictions and trends in the crime stats.\n",
    "I will be answering the Following questions:\n",
    "\n",
    "    Q1. Which are the areas with high crime frequency?\n",
    "    Q2. Time of the day having highest crime frequency.\n",
    "    Q3. Is there any trend in the crime frequency?\n",
    "    Q4. If yes, can predictions be made using this trend?\n",
    "    Q5. Is it possible to forecast the daily frequency of crimes? How?"
   ]
  },
  {
   "cell_type": "code",
   "execution_count": 8,
   "metadata": {},
   "outputs": [],
   "source": [
    "import numpy as np\n",
    "import pandas as pd\n",
    "import matplotlib.pyplot as plt\n",
    "from matplotlib import style\n",
    "import seaborn as sns; sns.set()\n",
    "\n",
    "style.use('fivethirtyeight')\n",
    "pd.options.display.max_rows = 20\n",
    "pd.options.display.max_columns = 20\n",
    "\n",
    "%matplotlib inline"
   ]
  },
  {
   "cell_type": "code",
   "execution_count": 9,
   "metadata": {},
   "outputs": [
    {
     "name": "stdout",
     "output_type": "stream",
     "text": [
      "<class 'pandas.core.frame.DataFrame'>\n",
      "RangeIndex: 319073 entries, 0 to 319072\n",
      "Data columns (total 17 columns):\n",
      "OFFENSE_CODE           319073 non-null int64\n",
      "OFFENSE_CODE_GROUP     319073 non-null object\n",
      "OFFENSE_DESCRIPTION    319073 non-null object\n",
      "DISTRICT               317308 non-null object\n",
      "REPORTING_AREA         319073 non-null object\n",
      "SHOOTING               1019 non-null object\n",
      "YEAR                   319073 non-null int64\n",
      "MONTH                  319073 non-null int64\n",
      "DAY_OF_WEEK            319073 non-null object\n",
      "HOUR                   319073 non-null int64\n",
      "UCR_PART               318983 non-null object\n",
      "STREET                 308202 non-null object\n",
      "Lat                    299074 non-null float64\n",
      "Long                   299074 non-null float64\n",
      "Location               319073 non-null object\n",
      "DATE                   319073 non-null object\n",
      "TIME                   319073 non-null object\n",
      "dtypes: float64(2), int64(4), object(11)\n",
      "memory usage: 41.4+ MB\n",
      "None\n"
     ]
    },
    {
     "data": {
      "text/html": [
       "<div>\n",
       "<style scoped>\n",
       "    .dataframe tbody tr th:only-of-type {\n",
       "        vertical-align: middle;\n",
       "    }\n",
       "\n",
       "    .dataframe tbody tr th {\n",
       "        vertical-align: top;\n",
       "    }\n",
       "\n",
       "    .dataframe thead th {\n",
       "        text-align: right;\n",
       "    }\n",
       "</style>\n",
       "<table border=\"1\" class=\"dataframe\">\n",
       "  <thead>\n",
       "    <tr style=\"text-align: right;\">\n",
       "      <th></th>\n",
       "      <th>OFFENSE_CODE</th>\n",
       "      <th>OFFENSE_CODE_GROUP</th>\n",
       "      <th>OFFENSE_DESCRIPTION</th>\n",
       "      <th>DISTRICT</th>\n",
       "      <th>REPORTING_AREA</th>\n",
       "      <th>SHOOTING</th>\n",
       "      <th>YEAR</th>\n",
       "      <th>MONTH</th>\n",
       "      <th>DAY_OF_WEEK</th>\n",
       "      <th>HOUR</th>\n",
       "      <th>UCR_PART</th>\n",
       "      <th>STREET</th>\n",
       "      <th>Lat</th>\n",
       "      <th>Long</th>\n",
       "      <th>Location</th>\n",
       "      <th>DATE</th>\n",
       "      <th>TIME</th>\n",
       "    </tr>\n",
       "  </thead>\n",
       "  <tbody>\n",
       "    <tr>\n",
       "      <th>0</th>\n",
       "      <td>619</td>\n",
       "      <td>Larceny</td>\n",
       "      <td>LARCENY ALL OTHERS</td>\n",
       "      <td>D14</td>\n",
       "      <td>808</td>\n",
       "      <td>NaN</td>\n",
       "      <td>2018</td>\n",
       "      <td>9</td>\n",
       "      <td>Sunday</td>\n",
       "      <td>13</td>\n",
       "      <td>Part One</td>\n",
       "      <td>LINCOLN ST</td>\n",
       "      <td>42.357791</td>\n",
       "      <td>-71.139371</td>\n",
       "      <td>(42.35779134, -71.13937053)</td>\n",
       "      <td>2018-09-02</td>\n",
       "      <td>13:00:00</td>\n",
       "    </tr>\n",
       "    <tr>\n",
       "      <th>1</th>\n",
       "      <td>1402</td>\n",
       "      <td>Vandalism</td>\n",
       "      <td>VANDALISM</td>\n",
       "      <td>C11</td>\n",
       "      <td>347</td>\n",
       "      <td>NaN</td>\n",
       "      <td>2018</td>\n",
       "      <td>8</td>\n",
       "      <td>Tuesday</td>\n",
       "      <td>0</td>\n",
       "      <td>Part Two</td>\n",
       "      <td>HECLA ST</td>\n",
       "      <td>42.306821</td>\n",
       "      <td>-71.060300</td>\n",
       "      <td>(42.30682138, -71.06030035)</td>\n",
       "      <td>2018-08-21</td>\n",
       "      <td>00:00:00</td>\n",
       "    </tr>\n",
       "    <tr>\n",
       "      <th>2</th>\n",
       "      <td>3410</td>\n",
       "      <td>Towed</td>\n",
       "      <td>TOWED MOTOR VEHICLE</td>\n",
       "      <td>D4</td>\n",
       "      <td>151</td>\n",
       "      <td>NaN</td>\n",
       "      <td>2018</td>\n",
       "      <td>9</td>\n",
       "      <td>Monday</td>\n",
       "      <td>19</td>\n",
       "      <td>Part Three</td>\n",
       "      <td>CAZENOVE ST</td>\n",
       "      <td>42.346589</td>\n",
       "      <td>-71.072429</td>\n",
       "      <td>(42.34658879, -71.07242943)</td>\n",
       "      <td>2018-09-03</td>\n",
       "      <td>19:27:00</td>\n",
       "    </tr>\n",
       "    <tr>\n",
       "      <th>3</th>\n",
       "      <td>3114</td>\n",
       "      <td>Investigate Property</td>\n",
       "      <td>INVESTIGATE PROPERTY</td>\n",
       "      <td>D4</td>\n",
       "      <td>272</td>\n",
       "      <td>NaN</td>\n",
       "      <td>2018</td>\n",
       "      <td>9</td>\n",
       "      <td>Monday</td>\n",
       "      <td>21</td>\n",
       "      <td>Part Three</td>\n",
       "      <td>NEWCOMB ST</td>\n",
       "      <td>42.334182</td>\n",
       "      <td>-71.078664</td>\n",
       "      <td>(42.33418175, -71.07866441)</td>\n",
       "      <td>2018-09-03</td>\n",
       "      <td>21:16:00</td>\n",
       "    </tr>\n",
       "    <tr>\n",
       "      <th>4</th>\n",
       "      <td>3114</td>\n",
       "      <td>Investigate Property</td>\n",
       "      <td>INVESTIGATE PROPERTY</td>\n",
       "      <td>B3</td>\n",
       "      <td>421</td>\n",
       "      <td>NaN</td>\n",
       "      <td>2018</td>\n",
       "      <td>9</td>\n",
       "      <td>Monday</td>\n",
       "      <td>21</td>\n",
       "      <td>Part Three</td>\n",
       "      <td>DELHI ST</td>\n",
       "      <td>42.275365</td>\n",
       "      <td>-71.090361</td>\n",
       "      <td>(42.27536542, -71.09036101)</td>\n",
       "      <td>2018-09-03</td>\n",
       "      <td>21:05:00</td>\n",
       "    </tr>\n",
       "  </tbody>\n",
       "</table>\n",
       "</div>"
      ],
      "text/plain": [
       "   OFFENSE_CODE    OFFENSE_CODE_GROUP   OFFENSE_DESCRIPTION DISTRICT  \\\n",
       "0           619               Larceny    LARCENY ALL OTHERS      D14   \n",
       "1          1402             Vandalism             VANDALISM      C11   \n",
       "2          3410                 Towed   TOWED MOTOR VEHICLE       D4   \n",
       "3          3114  Investigate Property  INVESTIGATE PROPERTY       D4   \n",
       "4          3114  Investigate Property  INVESTIGATE PROPERTY       B3   \n",
       "\n",
       "  REPORTING_AREA SHOOTING  YEAR  MONTH DAY_OF_WEEK  HOUR    UCR_PART  \\\n",
       "0            808      NaN  2018      9      Sunday    13    Part One   \n",
       "1            347      NaN  2018      8     Tuesday     0    Part Two   \n",
       "2            151      NaN  2018      9      Monday    19  Part Three   \n",
       "3            272      NaN  2018      9      Monday    21  Part Three   \n",
       "4            421      NaN  2018      9      Monday    21  Part Three   \n",
       "\n",
       "        STREET        Lat       Long                     Location        DATE  \\\n",
       "0   LINCOLN ST  42.357791 -71.139371  (42.35779134, -71.13937053)  2018-09-02   \n",
       "1     HECLA ST  42.306821 -71.060300  (42.30682138, -71.06030035)  2018-08-21   \n",
       "2  CAZENOVE ST  42.346589 -71.072429  (42.34658879, -71.07242943)  2018-09-03   \n",
       "3   NEWCOMB ST  42.334182 -71.078664  (42.33418175, -71.07866441)  2018-09-03   \n",
       "4     DELHI ST  42.275365 -71.090361  (42.27536542, -71.09036101)  2018-09-03   \n",
       "\n",
       "       TIME  \n",
       "0  13:00:00  \n",
       "1  00:00:00  \n",
       "2  19:27:00  \n",
       "3  21:16:00  \n",
       "4  21:05:00  "
      ]
     },
     "execution_count": 9,
     "metadata": {},
     "output_type": "execute_result"
    }
   ],
   "source": [
    "Rawdata = pd.read_csv('crime.csv',encoding='latin-1')\n",
    "\n",
    "# Dropping \"INCIDENT_NUMBER\"\n",
    "Rawdata.drop(\"INCIDENT_NUMBER\",axis=1, inplace=True)\n",
    "\n",
    "#Separating 'Date' & 'Time' present in 'OCCURED_ON_DATE' coloumn\n",
    "Rawdata[[\"DATE\",\"TIME\"]]=Rawdata['OCCURRED_ON_DATE'].str.split(\" \",expand=True) \n",
    "Rawdata.drop(\"OCCURRED_ON_DATE\", axis=1, inplace=True)\n",
    "\n",
    "print(Rawdata.info())\n",
    "Rawdata.head()"
   ]
  },
  {
   "cell_type": "code",
   "execution_count": 10,
   "metadata": {},
   "outputs": [],
   "source": [
    "# Create 2 columes DateFrame\n",
    "def createdf(c1,d1,c2,d2):\n",
    "    dic = {c1:d1,c2:d2}\n",
    "    df = pd.DataFrame(dic)\n",
    "    return df"
   ]
  },
  {
   "cell_type": "code",
   "execution_count": 11,
   "metadata": {},
   "outputs": [],
   "source": [
    "temp_df = Rawdata['STREET'].value_counts()\n",
    "temp_df = temp_df.reset_index()\n",
    "temp_df.columns = ['Street', 'Count']"
   ]
  },
  {
   "cell_type": "code",
   "execution_count": 12,
   "metadata": {},
   "outputs": [
    {
     "data": {
      "text/plain": [
       "<BarContainer object of 10 artists>"
      ]
     },
     "execution_count": 12,
     "metadata": {},
     "output_type": "execute_result"
    },
    {
     "data": {
      "image/png": "[encoded data removed]",
      "text/plain": [
       "<Figure size 1440x432 with 1 Axes>"
      ]
     },
     "metadata": {
      "needs_background": "light"
     },
     "output_type": "display_data"
    }
   ],
   "source": [
    "plt.figure(figsize=(20,6))\n",
    "plt.bar(temp_df['Street'][:10],temp_df['Count'][:10])"
   ]
  },
  {
   "cell_type": "markdown",
   "metadata": {},
   "source": [
    "So here we can see the 10 Streets in Boston with the highest cime frequency out which 'Washington St' show the highest frequency.\n",
    "These streetss can be considered as the most unsafe places in the city."
   ]
  },
  {
   "cell_type": "markdown",
   "metadata": {},
   "source": [
    "#### Now we try to find the type of crime with highest frequuency and will try to map it with the above 10 cities. "
   ]
  },
  {
   "cell_type": "code",
   "execution_count": 13,
   "metadata": {},
   "outputs": [],
   "source": [
    "temp_df = Rawdata['OFFENSE_CODE_GROUP'].value_counts()\n",
    "temp_df = temp_df.reset_index()\n",
    "temp_df.columns = ['OFFENSE_GROUP', 'Count']"
   ]
  },
  {
   "cell_type": "code",
   "execution_count": 14,
   "metadata": {},
   "outputs": [
    {
     "data": {
      "text/plain": [
       "<BarContainer object of 10 artists>"
      ]
     },
     "execution_count": 14,
     "metadata": {},
     "output_type": "execute_result"
    },
    {
     "data": {
      "image/png": "[encoded data removed]",
      "text/plain": [
       "<Figure size 1440x432 with 1 Axes>"
      ]
     },
     "metadata": {
      "needs_background": "light"
     },
     "output_type": "display_data"
    }
   ],
   "source": [
    "plt.figure(figsize=(20,6))\n",
    "plt.bar(temp_df['OFFENSE_GROUP'][:10],temp_df['Count'][:10])"
   ]
  }
 ],
 "metadata": {
  "kernelspec": {
   "display_name": "Python 3",
   "language": "python",
   "name": "python3"
  },
  "language_info": {
   "codemirror_mode": {
    "name": "ipython",
    "version": 3
   },
   "file_extension": ".py",
   "mimetype": "text/x-python",
   "name": "python",
   "nbconvert_exporter": "python",
   "pygments_lexer": "ipython3",
   "version": "3.7.6"
  }
 },
 "nbformat": 4,
 "nbformat_minor": 4
}
