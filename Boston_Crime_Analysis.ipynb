{
 "cells": [
  {
   "cell_type": "markdown",
   "metadata": {},
   "source": [
    "# Boston Crime Analysis\n"
   ]
  },
  {
   "cell_type": "markdown",
   "metadata": {},
   "source": [
    "In this analysis I will be focusing on the analysis to deduce some predictions and trends in the crime stats.\n",
    "I will be answering the Following questions:\n",
    "\n",
    "    Q1. Which are the areas with high crime frequency?\n",
    "    Q2. Time of the day having highest crime frequency.\n",
    "    Q3. Is there any trend in the crime frequency?\n",
    "    Q4. If yes, can predictions be made using this trend?\n",
    "    Q5. Is it possible to forecast the daily frequency of crimes? How?"
   ]
  },
  {
   "cell_type": "code",
   "execution_count": 2,
   "metadata": {},
   "outputs": [],
   "source": [
    "import numpy as np\n",
    "import pandas as pd\n",
    "import matplotlib.pyplot as plt\n",
    "import math\n",
    "from matplotlib import style\n",
    "from ipyleaflet import *\n",
    "import seaborn as sns; sns.set()\n",
    "\n",
    "style.use('fivethirtyeight')\n",
    "pd.options.display.max_rows = 20\n",
    "pd.options.display.max_columns = 20\n",
    "\n",
    "%matplotlib inline"
   ]
  },
  {
   "cell_type": "code",
   "execution_count": 21,
   "metadata": {},
   "outputs": [],
   "source": []
  },
  {
   "cell_type": "code",
   "execution_count": 3,
   "metadata": {},
   "outputs": [
    {
     "name": "stdout",
     "output_type": "stream",
     "text": [
      "<class 'pandas.core.frame.DataFrame'>\n",
      "RangeIndex: 319073 entries, 0 to 319072\n",
      "Data columns (total 17 columns):\n",
      "OFFENSE_CODE           319073 non-null int64\n",
      "OFFENSE_CODE_GROUP     319073 non-null object\n",
      "OFFENSE_DESCRIPTION    319073 non-null object\n",
      "DISTRICT               317308 non-null object\n",
      "REPORTING_AREA         319073 non-null object\n",
      "SHOOTING               1019 non-null object\n",
      "YEAR                   319073 non-null int64\n",
      "MONTH                  319073 non-null int64\n",
      "DAY_OF_WEEK            319073 non-null object\n",
      "HOUR                   319073 non-null int64\n",
      "UCR_PART               318983 non-null object\n",
      "STREET                 308202 non-null object\n",
      "Lat                    299074 non-null float64\n",
      "Long                   299074 non-null float64\n",
      "Location               319073 non-null object\n",
      "DATE                   319073 non-null object\n",
      "TIME                   319073 non-null object\n",
      "dtypes: float64(2), int64(4), object(11)\n",
      "memory usage: 41.4+ MB\n",
      "None\n"
     ]
    },
    {
     "data": {
      "text/html": [
       "<div>\n",
       "<style scoped>\n",
       "    .dataframe tbody tr th:only-of-type {\n",
       "        vertical-align: middle;\n",
       "    }\n",
       "\n",
       "    .dataframe tbody tr th {\n",
       "        vertical-align: top;\n",
       "    }\n",
       "\n",
       "    .dataframe thead th {\n",
       "        text-align: right;\n",
       "    }\n",
       "</style>\n",
       "<table border=\"1\" class=\"dataframe\">\n",
       "  <thead>\n",
       "    <tr style=\"text-align: right;\">\n",
       "      <th></th>\n",
       "      <th>OFFENSE_CODE</th>\n",
       "      <th>OFFENSE_CODE_GROUP</th>\n",
       "      <th>OFFENSE_DESCRIPTION</th>\n",
       "      <th>DISTRICT</th>\n",
       "      <th>REPORTING_AREA</th>\n",
       "      <th>SHOOTING</th>\n",
       "      <th>YEAR</th>\n",
       "      <th>MONTH</th>\n",
       "      <th>DAY_OF_WEEK</th>\n",
       "      <th>HOUR</th>\n",
       "      <th>UCR_PART</th>\n",
       "      <th>STREET</th>\n",
       "      <th>Lat</th>\n",
       "      <th>Long</th>\n",
       "      <th>Location</th>\n",
       "      <th>DATE</th>\n",
       "      <th>TIME</th>\n",
       "    </tr>\n",
       "  </thead>\n",
       "  <tbody>\n",
       "    <tr>\n",
       "      <th>0</th>\n",
       "      <td>619</td>\n",
       "      <td>Larceny</td>\n",
       "      <td>LARCENY ALL OTHERS</td>\n",
       "      <td>D14</td>\n",
       "      <td>808</td>\n",
       "      <td>NaN</td>\n",
       "      <td>2018</td>\n",
       "      <td>9</td>\n",
       "      <td>Sunday</td>\n",
       "      <td>13</td>\n",
       "      <td>Part One</td>\n",
       "      <td>LINCOLN ST</td>\n",
       "      <td>42.357791</td>\n",
       "      <td>-71.139371</td>\n",
       "      <td>(42.35779134, -71.13937053)</td>\n",
       "      <td>2018-09-02</td>\n",
       "      <td>13:00:00</td>\n",
       "    </tr>\n",
       "    <tr>\n",
       "      <th>1</th>\n",
       "      <td>1402</td>\n",
       "      <td>Vandalism</td>\n",
       "      <td>VANDALISM</td>\n",
       "      <td>C11</td>\n",
       "      <td>347</td>\n",
       "      <td>NaN</td>\n",
       "      <td>2018</td>\n",
       "      <td>8</td>\n",
       "      <td>Tuesday</td>\n",
       "      <td>0</td>\n",
       "      <td>Part Two</td>\n",
       "      <td>HECLA ST</td>\n",
       "      <td>42.306821</td>\n",
       "      <td>-71.060300</td>\n",
       "      <td>(42.30682138, -71.06030035)</td>\n",
       "      <td>2018-08-21</td>\n",
       "      <td>00:00:00</td>\n",
       "    </tr>\n",
       "    <tr>\n",
       "      <th>2</th>\n",
       "      <td>3410</td>\n",
       "      <td>Towed</td>\n",
       "      <td>TOWED MOTOR VEHICLE</td>\n",
       "      <td>D4</td>\n",
       "      <td>151</td>\n",
       "      <td>NaN</td>\n",
       "      <td>2018</td>\n",
       "      <td>9</td>\n",
       "      <td>Monday</td>\n",
       "      <td>19</td>\n",
       "      <td>Part Three</td>\n",
       "      <td>CAZENOVE ST</td>\n",
       "      <td>42.346589</td>\n",
       "      <td>-71.072429</td>\n",
       "      <td>(42.34658879, -71.07242943)</td>\n",
       "      <td>2018-09-03</td>\n",
       "      <td>19:27:00</td>\n",
       "    </tr>\n",
       "    <tr>\n",
       "      <th>3</th>\n",
       "      <td>3114</td>\n",
       "      <td>Investigate Property</td>\n",
       "      <td>INVESTIGATE PROPERTY</td>\n",
       "      <td>D4</td>\n",
       "      <td>272</td>\n",
       "      <td>NaN</td>\n",
       "      <td>2018</td>\n",
       "      <td>9</td>\n",
       "      <td>Monday</td>\n",
       "      <td>21</td>\n",
       "      <td>Part Three</td>\n",
       "      <td>NEWCOMB ST</td>\n",
       "      <td>42.334182</td>\n",
       "      <td>-71.078664</td>\n",
       "      <td>(42.33418175, -71.07866441)</td>\n",
       "      <td>2018-09-03</td>\n",
       "      <td>21:16:00</td>\n",
       "    </tr>\n",
       "    <tr>\n",
       "      <th>4</th>\n",
       "      <td>3114</td>\n",
       "      <td>Investigate Property</td>\n",
       "      <td>INVESTIGATE PROPERTY</td>\n",
       "      <td>B3</td>\n",
       "      <td>421</td>\n",
       "      <td>NaN</td>\n",
       "      <td>2018</td>\n",
       "      <td>9</td>\n",
       "      <td>Monday</td>\n",
       "      <td>21</td>\n",
       "      <td>Part Three</td>\n",
       "      <td>DELHI ST</td>\n",
       "      <td>42.275365</td>\n",
       "      <td>-71.090361</td>\n",
       "      <td>(42.27536542, -71.09036101)</td>\n",
       "      <td>2018-09-03</td>\n",
       "      <td>21:05:00</td>\n",
       "    </tr>\n",
       "  </tbody>\n",
       "</table>\n",
       "</div>"
      ],
      "text/plain": [
       "   OFFENSE_CODE    OFFENSE_CODE_GROUP   OFFENSE_DESCRIPTION DISTRICT  \\\n",
       "0           619               Larceny    LARCENY ALL OTHERS      D14   \n",
       "1          1402             Vandalism             VANDALISM      C11   \n",
       "2          3410                 Towed   TOWED MOTOR VEHICLE       D4   \n",
       "3          3114  Investigate Property  INVESTIGATE PROPERTY       D4   \n",
       "4          3114  Investigate Property  INVESTIGATE PROPERTY       B3   \n",
       "\n",
       "  REPORTING_AREA SHOOTING  YEAR  MONTH DAY_OF_WEEK  HOUR    UCR_PART  \\\n",
       "0            808      NaN  2018      9      Sunday    13    Part One   \n",
       "1            347      NaN  2018      8     Tuesday     0    Part Two   \n",
       "2            151      NaN  2018      9      Monday    19  Part Three   \n",
       "3            272      NaN  2018      9      Monday    21  Part Three   \n",
       "4            421      NaN  2018      9      Monday    21  Part Three   \n",
       "\n",
       "        STREET        Lat       Long                     Location        DATE  \\\n",
       "0   LINCOLN ST  42.357791 -71.139371  (42.35779134, -71.13937053)  2018-09-02   \n",
       "1     HECLA ST  42.306821 -71.060300  (42.30682138, -71.06030035)  2018-08-21   \n",
       "2  CAZENOVE ST  42.346589 -71.072429  (42.34658879, -71.07242943)  2018-09-03   \n",
       "3   NEWCOMB ST  42.334182 -71.078664  (42.33418175, -71.07866441)  2018-09-03   \n",
       "4     DELHI ST  42.275365 -71.090361  (42.27536542, -71.09036101)  2018-09-03   \n",
       "\n",
       "       TIME  \n",
       "0  13:00:00  \n",
       "1  00:00:00  \n",
       "2  19:27:00  \n",
       "3  21:16:00  \n",
       "4  21:05:00  "
      ]
     },
     "execution_count": 3,
     "metadata": {},
     "output_type": "execute_result"
    }
   ],
   "source": [
    "df = pd.read_csv('crime.csv',encoding='latin-1')\n",
    "\n",
    "# Dropping \"INCIDENT_NUMBER\"\n",
    "df.drop(\"INCIDENT_NUMBER\",axis=1, inplace=True)\n",
    "\n",
    "#Separating 'Date' & 'Time' present in 'OCCURED_ON_DATE' coloumn\n",
    "df[[\"DATE\",\"TIME\"]]=df['OCCURRED_ON_DATE'].str.split(\" \",expand=True) \n",
    "df.drop(\"OCCURRED_ON_DATE\", axis=1, inplace=True)\n",
    "\n",
    "print(df.info())\n",
    "df.head()"
   ]
  },
  {
   "cell_type": "markdown",
   "metadata": {},
   "source": [
    "### Plotting Locations of Reported Crimeson the Map of Boston."
   ]
  },
  {
   "cell_type": "code",
   "execution_count": 4,
   "metadata": {},
   "outputs": [],
   "source": [
    "loc_df = pd.merge(df['Lat'],df['Long'],how='right', right_index=True, left_index=True)\n",
    "\n",
    "loc_list=[]     #List of tuples/pairs of Lattitude and Longitude\n",
    "for i, j in zip(loc_df['Lat'],loc_df['Long']):\n",
    "    if math.isnan(i) or math.isnan(j): pass\n",
    "    else:\n",
    "        loc_list.append((i,j))"
   ]
  },
  {
   "cell_type": "code",
   "execution_count": 5,
   "metadata": {
    "scrolled": false
   },
   "outputs": [
    {
     "data": {
      "application/vnd.jupyter.widget-view+json": {
       "model_id": "702b153158534f51b97da40229a7924b",
       "version_major": 2,
       "version_minor": 0
      },
      "text/plain": [
       "Map(center=[42.3601, -71.0589], controls=(ZoomControl(options=['position', 'zoom_in_text', 'zoom_in_title', 'z…"
      ]
     },
     "metadata": {},
     "output_type": "display_data"
    }
   ],
   "source": [
    "marker_list = [] #list of locations as marker for Map\n",
    "for i in loc_list[:40]:\n",
    "    marker_list.append(Marker(location=i))\n",
    "\n",
    "m = Map(center=[42.3601,-71.0589], zoom=13)\n",
    "marker_cluster = MarkerCluster(markers=tuple(marker_list))\n",
    "m.add_layer(marker_cluster)\n",
    "m"
   ]
  },
  {
   "cell_type": "code",
   "execution_count": 6,
   "metadata": {},
   "outputs": [],
   "source": [
    "f1 = df['Lat'].values\n",
    "f1 = f1[~np.isnan(f1)]\n",
    "f2 = df['Long'].values\n",
    "f2 = f2[~np.isnan(f2)]\n",
    "coordinates = np.array(list(zip(f1, f2)))"
   ]
  },
  {
   "cell_type": "code",
   "execution_count": 15,
   "metadata": {},
   "outputs": [],
   "source": [
    "from sklearn.cluster import KMeans\n",
    "kmeans = KMeans(n_clusters=40)\n",
    "kmeans = kmeans.fit(coordinates)\n",
    "labels = kmeans.predict(coordinates)\n",
    "centroids = kmeans.cluster_centers_"
   ]
  },
  {
   "cell_type": "code",
   "execution_count": null,
   "metadata": {},
   "outputs": [],
   "source": [
    "print(centroids)"
   ]
  },
  {
   "cell_type": "markdown",
   "metadata": {},
   "source": [
    "The above pairs of Longitude and Latitude are the center points for the clusers among which all the recorded locations can be divided.\n",
    "\n",
    "There are 299074 pairs of Longitude and Latitude in total given in the data.\n",
    "We have here divide these pairs in total of 4o clusters to summarize and divide the whole city are among 40 clusters to find the areas consisting most of the criminal activities."
   ]
  },
  {
   "cell_type": "markdown",
   "metadata": {},
   "source": [
    "# Plotting the Clusters on the Map"
   ]
  },
  {
   "cell_type": "code",
   "execution_count": 23,
   "metadata": {},
   "outputs": [],
   "source": [
    "dc = DrawControl(marker={'shapeOptions': {'color': '#0000FF'}},\n",
    "                 rectangle={'shapeOptions': {'color': '#0000FF'}},\n",
    "                 circle={'shapeOptions': {'color': '#0000FF'}},\n",
    "                 circlemarker={},\n",
    "                 )"
   ]
  },
  {
   "cell_type": "code",
   "execution_count": 26,
   "metadata": {},
   "outputs": [
    {
     "ename": "ControlException",
     "evalue": "control already on map: DrawControl(circle={'shapeOptions': {'color': '#0000FF'}}, marker={'shapeOptions': {'color': '#0000FF'}}, options=['position'], polygon={'shapeOptions': {}}, polyline={'shapeOptions': {}}, rectangle={'shapeOptions': {'color': '#0000FF'}})",
     "output_type": "error",
     "traceback": [
      "\u001b[1;31m---------------------------------------------------------------------------\u001b[0m",
      "\u001b[1;31mControlException\u001b[0m                          Traceback (most recent call last)",
      "\u001b[1;32m<ipython-input-26-b57a41cc45ff>\u001b[0m in \u001b[0;36m<module>\u001b[1;34m\u001b[0m\n\u001b[0;32m      4\u001b[0m \u001b[1;33m\u001b[0m\u001b[0m\n\u001b[0;32m      5\u001b[0m \u001b[0mdc\u001b[0m\u001b[1;33m.\u001b[0m\u001b[0mon_draw\u001b[0m\u001b[1;33m(\u001b[0m\u001b[0mhandle_draw\u001b[0m\u001b[1;33m)\u001b[0m\u001b[1;33m\u001b[0m\u001b[1;33m\u001b[0m\u001b[0m\n\u001b[1;32m----> 6\u001b[1;33m \u001b[0mm\u001b[0m\u001b[1;33m.\u001b[0m\u001b[0madd_control\u001b[0m\u001b[1;33m(\u001b[0m\u001b[0mdc\u001b[0m\u001b[1;33m)\u001b[0m\u001b[1;33m\u001b[0m\u001b[1;33m\u001b[0m\u001b[0m\n\u001b[0m",
      "\u001b[1;32mc:\\workspace\\data_analytics\\analytics\\lib\\site-packages\\ipyleaflet\\leaflet.py\u001b[0m in \u001b[0;36madd_control\u001b[1;34m(self, control)\u001b[0m\n\u001b[0;32m   1053\u001b[0m     \u001b[1;32mdef\u001b[0m \u001b[0madd_control\u001b[0m\u001b[1;33m(\u001b[0m\u001b[0mself\u001b[0m\u001b[1;33m,\u001b[0m \u001b[0mcontrol\u001b[0m\u001b[1;33m)\u001b[0m\u001b[1;33m:\u001b[0m\u001b[1;33m\u001b[0m\u001b[1;33m\u001b[0m\u001b[0m\n\u001b[0;32m   1054\u001b[0m         \u001b[1;32mif\u001b[0m \u001b[0mcontrol\u001b[0m\u001b[1;33m.\u001b[0m\u001b[0mmodel_id\u001b[0m \u001b[1;32min\u001b[0m \u001b[0mself\u001b[0m\u001b[1;33m.\u001b[0m\u001b[0m_control_ids\u001b[0m\u001b[1;33m:\u001b[0m\u001b[1;33m\u001b[0m\u001b[1;33m\u001b[0m\u001b[0m\n\u001b[1;32m-> 1055\u001b[1;33m             \u001b[1;32mraise\u001b[0m \u001b[0mControlException\u001b[0m\u001b[1;33m(\u001b[0m\u001b[1;34m'control already on map: %r'\u001b[0m \u001b[1;33m%\u001b[0m \u001b[0mcontrol\u001b[0m\u001b[1;33m)\u001b[0m\u001b[1;33m\u001b[0m\u001b[1;33m\u001b[0m\u001b[0m\n\u001b[0m\u001b[0;32m   1056\u001b[0m         \u001b[0mself\u001b[0m\u001b[1;33m.\u001b[0m\u001b[0mcontrols\u001b[0m \u001b[1;33m=\u001b[0m \u001b[0mtuple\u001b[0m\u001b[1;33m(\u001b[0m\u001b[1;33m[\u001b[0m\u001b[0mc\u001b[0m \u001b[1;32mfor\u001b[0m \u001b[0mc\u001b[0m \u001b[1;32min\u001b[0m \u001b[0mself\u001b[0m\u001b[1;33m.\u001b[0m\u001b[0mcontrols\u001b[0m\u001b[1;33m]\u001b[0m \u001b[1;33m+\u001b[0m \u001b[1;33m[\u001b[0m\u001b[0mcontrol\u001b[0m\u001b[1;33m]\u001b[0m\u001b[1;33m)\u001b[0m\u001b[1;33m\u001b[0m\u001b[1;33m\u001b[0m\u001b[0m\n\u001b[0;32m   1057\u001b[0m \u001b[1;33m\u001b[0m\u001b[0m\n",
      "\u001b[1;31mControlException\u001b[0m: control already on map: DrawControl(circle={'shapeOptions': {'color': '#0000FF'}}, marker={'shapeOptions': {'color': '#0000FF'}}, options=['position'], polygon={'shapeOptions': {}}, polyline={'shapeOptions': {}}, rectangle={'shapeOptions': {'color': '#0000FF'}})"
     ]
    }
   ],
   "source": [
    "def handle_draw(self, action, geo_json):\n",
    "    print(action)\n",
    "    print(geo_json)\n",
    "\n",
    "dc.on_draw(handle_draw)\n",
    "m.add_control(dc)"
   ]
  },
  {
   "cell_type": "code",
   "execution_count": 16,
   "metadata": {},
   "outputs": [
    {
     "data": {
      "application/vnd.jupyter.widget-view+json": {
       "model_id": "f9ee5fb5d3ba4bac9b23c2b617cff628",
       "version_major": 2,
       "version_minor": 0
      },
      "text/plain": [
       "Map(center=[42.3601, -71.0589], controls=(ZoomControl(options=['position', 'zoom_in_text', 'zoom_in_title', 'z…"
      ]
     },
     "metadata": {},
     "output_type": "display_data"
    },
    {
     "name": "stdout",
     "output_type": "stream",
     "text": [
      "created\n",
      "{'type': 'Feature', 'properties': {'style': {'stroke': True, 'color': '#0000FF', 'weight': 4, 'opacity': 0.5, 'fill': True, 'fillColor': None, 'fillOpacity': 0.2, 'clickable': True, 'radius': 370.33130009194616}}, 'geometry': {'type': 'Point', 'coordinates': [-71.162185, 42.288706]}}\n",
      "created\n",
      "{'type': 'Feature', 'properties': {'style': {'stroke': True, 'color': '#0000FF', 'weight': 4, 'opacity': 0.5, 'fill': True, 'fillColor': None, 'fillOpacity': 0.2, 'clickable': True, 'radius': 175.65719101985587}}, 'geometry': {'type': 'Point', 'coordinates': [-71.16194, 42.28857]}}\n",
      "deleted\n",
      "{'type': 'Feature', 'properties': {'style': {'stroke': True, 'color': '#0000FF', 'weight': 4, 'opacity': 0.5, 'fill': True, 'fillColor': None, 'fillOpacity': 0.2, 'clickable': True, 'radius': 370.33130009194616}}, 'geometry': {'type': 'Point', 'coordinates': [-71.162185, 42.288706]}}\n",
      "deleted\n",
      "{'type': 'Feature', 'properties': {'style': {'stroke': True, 'color': '#0000FF', 'weight': 4, 'opacity': 0.5, 'fill': True, 'fillColor': None, 'fillOpacity': 0.2, 'clickable': True, 'radius': 175.65719101985587}}, 'geometry': {'type': 'Point', 'coordinates': [-71.16194, 42.28857]}}\n",
      "created\n",
      "{'type': 'Feature', 'properties': {'style': {'stroke': True, 'color': '#0000FF', 'weight': 4, 'opacity': 0.5, 'fill': True, 'fillColor': None, 'fillOpacity': 0.2, 'clickable': True, 'radius': 399.5084229202345}}, 'geometry': {'type': 'Point', 'coordinates': [-71.15718, 42.280668]}}\n",
      "deleted\n",
      "{'type': 'Feature', 'properties': {'style': {'stroke': True, 'color': '#0000FF', 'weight': 4, 'opacity': 0.5, 'fill': True, 'fillColor': None, 'fillOpacity': 0.2, 'clickable': True, 'radius': 399.5084229202345}}, 'geometry': {'type': 'Point', 'coordinates': [-71.15718, 42.280668]}}\n",
      "created\n",
      "{'type': 'Feature', 'properties': {'style': {'stroke': True, 'color': '#0000FF', 'weight': 4, 'opacity': 0.5, 'fill': True, 'fillColor': None, 'fillOpacity': 0.2, 'clickable': True, 'radius': 425.0160467025032}}, 'geometry': {'type': 'Point', 'coordinates': [-71.160659, 42.288119]}}\n",
      "deleted\n",
      "{'type': 'Feature', 'properties': {'style': {'stroke': True, 'color': '#0000FF', 'weight': 4, 'opacity': 0.5, 'fill': True, 'fillColor': None, 'fillOpacity': 0.2, 'clickable': True, 'radius': 425.0160467025032}}, 'geometry': {'type': 'Point', 'coordinates': [-71.160659, 42.288119]}}\n",
      "created\n",
      "{'type': 'Feature', 'properties': {'style': {'stroke': True, 'color': '#0000FF', 'weight': 4, 'opacity': 0.5, 'fill': True, 'fillColor': None, 'fillOpacity': 0.2, 'clickable': True, 'radius': 596.4938986129409}}, 'geometry': {'type': 'Point', 'coordinates': [-71.159085, 42.287128]}}\n",
      "created\n",
      "{'type': 'Feature', 'properties': {'style': {'stroke': True, 'color': '#0000FF', 'weight': 4, 'opacity': 0.5, 'fill': True, 'fillColor': None, 'fillOpacity': 0.2, 'clickable': True, 'radius': 488.9668128872878}}, 'geometry': {'type': 'Point', 'coordinates': [-71.131282, 42.284283]}}\n",
      "created\n",
      "{'type': 'Feature', 'properties': {'style': {'stroke': True, 'color': '#0000FF', 'weight': 4, 'opacity': 0.5, 'fill': True, 'fillColor': None, 'fillOpacity': 0.2, 'clickable': True, 'radius': 462.02034274757875}}, 'geometry': {'type': 'Point', 'coordinates': [-71.116391, 42.283899]}}\n",
      "created\n",
      "{'type': 'Feature', 'properties': {'style': {'stroke': True, 'color': '#0000FF', 'weight': 4, 'opacity': 0.5, 'fill': True, 'fillColor': None, 'fillOpacity': 0.2, 'clickable': True, 'radius': 47.967501372910405}}, 'geometry': {'type': 'Point', 'coordinates': [-71.103908, 42.281619]}}\n",
      "deleted\n",
      "{'type': 'Feature', 'properties': {'style': {'stroke': True, 'color': '#0000FF', 'weight': 4, 'opacity': 0.5, 'fill': True, 'fillColor': None, 'fillOpacity': 0.2, 'clickable': True, 'radius': 596.4938986129409}}, 'geometry': {'type': 'Point', 'coordinates': [-71.159085, 42.287128]}}\n",
      "deleted\n",
      "{'type': 'Feature', 'properties': {'style': {'stroke': True, 'color': '#0000FF', 'weight': 4, 'opacity': 0.5, 'fill': True, 'fillColor': None, 'fillOpacity': 0.2, 'clickable': True, 'radius': 596.4938986129409}}, 'geometry': {'type': 'Point', 'coordinates': [-71.159085, 42.287128]}}\n",
      "deleted\n",
      "{'type': 'Feature', 'properties': {'style': {'stroke': True, 'color': '#0000FF', 'weight': 4, 'opacity': 0.5, 'fill': True, 'fillColor': None, 'fillOpacity': 0.2, 'clickable': True, 'radius': 488.9668128872878}}, 'geometry': {'type': 'Point', 'coordinates': [-71.131282, 42.284283]}}\n",
      "deleted\n",
      "{'type': 'Feature', 'properties': {'style': {'stroke': True, 'color': '#0000FF', 'weight': 4, 'opacity': 0.5, 'fill': True, 'fillColor': None, 'fillOpacity': 0.2, 'clickable': True, 'radius': 488.9668128872878}}, 'geometry': {'type': 'Point', 'coordinates': [-71.131282, 42.284283]}}\n",
      "deleted\n",
      "{'type': 'Feature', 'properties': {'style': {'stroke': True, 'color': '#0000FF', 'weight': 4, 'opacity': 0.5, 'fill': True, 'fillColor': None, 'fillOpacity': 0.2, 'clickable': True, 'radius': 462.02034274757875}}, 'geometry': {'type': 'Point', 'coordinates': [-71.116391, 42.283899]}}\n",
      "deleted\n",
      "{'type': 'Feature', 'properties': {'style': {'stroke': True, 'color': '#0000FF', 'weight': 4, 'opacity': 0.5, 'fill': True, 'fillColor': None, 'fillOpacity': 0.2, 'clickable': True, 'radius': 462.02034274757875}}, 'geometry': {'type': 'Point', 'coordinates': [-71.116391, 42.283899]}}\n",
      "deleted\n",
      "{'type': 'Feature', 'properties': {'style': {'stroke': True, 'color': '#0000FF', 'weight': 4, 'opacity': 0.5, 'fill': True, 'fillColor': None, 'fillOpacity': 0.2, 'clickable': True, 'radius': 47.967501372910405}}, 'geometry': {'type': 'Point', 'coordinates': [-71.103908, 42.281619]}}\n",
      "deleted\n",
      "{'type': 'Feature', 'properties': {'style': {'stroke': True, 'color': '#0000FF', 'weight': 4, 'opacity': 0.5, 'fill': True, 'fillColor': None, 'fillOpacity': 0.2, 'clickable': True, 'radius': 47.967501372910405}}, 'geometry': {'type': 'Point', 'coordinates': [-71.103908, 42.281619]}}\n"
     ]
    }
   ],
   "source": [
    "marker_list = []\n",
    "for i in centroids:\n",
    "    marker_list.append(Marker(location=tuple(i)))\n",
    "\n",
    "m = Map(center=[42.3601,-71.0589], zoom=8)\n",
    "marker_cluster = MarkerCluster(markers=tuple(marker_list))\n",
    "\n",
    "m.add_layer(marker_cluster);\n",
    "\n",
    "m"
   ]
  },
  {
   "cell_type": "code",
   "execution_count": 9,
   "metadata": {},
   "outputs": [],
   "source": [
    "temp_df = df['STREET'].value_counts()\n",
    "temp_df = temp_df.reset_index()\n",
    "temp_df.columns = ['Street', 'Count']"
   ]
  },
  {
   "cell_type": "code",
   "execution_count": 10,
   "metadata": {
    "scrolled": true
   },
   "outputs": [
    {
     "data": {
      "text/plain": [
       "<BarContainer object of 10 artists>"
      ]
     },
     "execution_count": 10,
     "metadata": {},
     "output_type": "execute_result"
    },
    {
     "data": {
      "image/png": "[encoded data removed]",
      "text/plain": [
       "<Figure size 1440x432 with 1 Axes>"
      ]
     },
     "metadata": {
      "needs_background": "light"
     },
     "output_type": "display_data"
    }
   ],
   "source": [
    "plt.figure(figsize=(20,6))\n",
    "plt.bar(temp_df['Street'][:10],temp_df['Count'][:10])"
   ]
  },
  {
   "cell_type": "markdown",
   "metadata": {},
   "source": [
    "So here we can see the 10 Streets in Boston with the highest cime frequency out which 'Washington St' show the highest frequency.\n",
    "These streetss can be considered as the most unsafe places in the city."
   ]
  },
  {
   "cell_type": "markdown",
   "metadata": {},
   "source": [
    "#### Now we try to find the type of crime with highest frequuency and will try to map it with the above 10 cities. "
   ]
  },
  {
   "cell_type": "code",
   "execution_count": 11,
   "metadata": {},
   "outputs": [],
   "source": [
    "temp_df = df['OFFENSE_CODE_GROUP'].value_counts()\n",
    "temp_df = temp_df.reset_index()\n",
    "temp_df.columns = ['OFFENSE_GROUP', 'Count']"
   ]
  },
  {
   "cell_type": "code",
   "execution_count": 12,
   "metadata": {},
   "outputs": [
    {
     "data": {
      "text/plain": [
       "<BarContainer object of 10 artists>"
      ]
     },
     "execution_count": 12,
     "metadata": {},
     "output_type": "execute_result"
    },
    {
     "data": {
      "image/png": "[encoded data removed]",
      "text/plain": [
       "<Figure size 1440x432 with 1 Axes>"
      ]
     },
     "metadata": {
      "needs_background": "light"
     },
     "output_type": "display_data"
    }
   ],
   "source": [
    "plt.figure(figsize=(20,6))\n",
    "plt.bar(temp_df['OFFENSE_GROUP'][:10],temp_df['Count'][:10])"
   ]
  },
  {
   "cell_type": "code",
   "execution_count": 13,
   "metadata": {},
   "outputs": [
    {
     "data": {
      "text/plain": [
       "<matplotlib.collections.PathCollection at 0x19a2396c648>"
      ]
     },
     "execution_count": 13,
     "metadata": {},
     "output_type": "execute_result"
    },
    {
     "data": {
      "image/png": "[encoded data removed]",
      "text/plain": [
       "<Figure size 1440x432 with 1 Axes>"
      ]
     },
     "metadata": {
      "needs_background": "light"
     },
     "output_type": "display_data"
    }
   ],
   "source": [
    "plt.figure(figsize=(20,6))\n",
    "plt.scatter(df['DATE'][:20],df['TIME'][:20])"
   ]
  },
  {
   "cell_type": "code",
   "execution_count": null,
   "metadata": {},
   "outputs": [],
   "source": []
  }
 ],
 "metadata": {
  "kernelspec": {
   "display_name": "Python 3",
   "language": "python",
   "name": "python3"
  },
  "language_info": {
   "codemirror_mode": {
    "name": "ipython",
    "version": 3
   },
   "file_extension": ".py",
   "mimetype": "text/x-python",
   "name": "python",
   "nbconvert_exporter": "python",
   "pygments_lexer": "ipython3",
   "version": "3.7.6"
  }
 },
 "nbformat": 4,
 "nbformat_minor": 4
}
